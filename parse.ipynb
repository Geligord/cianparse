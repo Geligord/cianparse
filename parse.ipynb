{
 "cells": [
  {
   "cell_type": "code",
   "execution_count": 1,
   "metadata": {},
   "outputs": [
    {
     "ename": "SyntaxError",
     "evalue": "invalid syntax (parser.py, line 54)",
     "output_type": "error",
     "traceback": [
      "Traceback \u001b[1;36m(most recent call last)\u001b[0m:\n",
      "\u001b[0m  File \u001b[0;32mc:\\Users\\moloc\\AppData\\Local\\Programs\\Python\\Python311\\Lib\\site-packages\\IPython\\core\\interactiveshell.py:3508\u001b[0m in \u001b[0;35mrun_code\u001b[0m\n    exec(code_obj, self.user_global_ns, self.user_ns)\u001b[0m\n",
      "\u001b[0m  Cell \u001b[0;32mIn[1], line 1\u001b[0m\n    import cianparser\u001b[0m\n",
      "\u001b[0m  File \u001b[0;32mc:\\Users\\moloc\\AppData\\Local\\Programs\\Python\\Python311\\Lib\\site-packages\\cianparser\\__init__.py:1\u001b[0m\n    from .cianparser import parse, list_cities\u001b[0m\n",
      "\u001b[1;36m  File \u001b[1;32mc:\\Users\\moloc\\AppData\\Local\\Programs\\Python\\Python311\\Lib\\site-packages\\cianparser\\cianparser.py:2\u001b[1;36m\n\u001b[1;33m    from cianparser.parser import ParserOffers\u001b[1;36m\n",
      "\u001b[1;36m  File \u001b[1;32mc:\\Users\\moloc\\AppData\\Local\\Programs\\Python\\Python311\\Lib\\site-packages\\cianparser\\parser.py:54\u001b[1;36m\u001b[0m\n\u001b[1;33m    <code object extract_district = extract_district(address)\u001b[0m\n\u001b[1;37m    ^\u001b[0m\n\u001b[1;31mSyntaxError\u001b[0m\u001b[1;31m:\u001b[0m invalid syntax\n"
     ]
    }
   ],
   "source": [
    "import cianparser\n",
    "import pandas as pd"
   ]
  },
  {
   "cell_type": "code",
   "execution_count": null,
   "metadata": {},
   "outputs": [
    {
     "name": "stdout",
     "output_type": "stream",
     "text": [
      "\n",
      "                              Preparing to collect information from pages..\n",
      "The absolute path to the file: \n",
      "c:\\Users\\moloc\\OneDrive\\Рабочий стол\\cianparser-main\\ml\\cian_parsing_result_1_sale_1_54_perm_24_Oct_2023_00_11_50_673661.csv \n",
      "\n",
      "The page from which the collection of information begins: \n",
      " https://cian.ru/cat.php?engine_version=2&p=1&region=4603&offer_type=flat&deal_type=sale&room1=1&with_neighbors=0&object_type=1 \n",
      "\n",
      "Collecting information from pages with list of announcements\n",
      " 1 | 1 page with list: [=>=>                                                    ] 8% | Count of all parsed: 2. Progress ratio: 1 %. Average price: 3 400 000 rub\r"
     ]
    },
    {
     "ename": "KeyboardInterrupt",
     "evalue": "",
     "output_type": "error",
     "traceback": [
      "\u001b[1;31m---------------------------------------------------------------------------\u001b[0m",
      "\u001b[1;31mKeyboardInterrupt\u001b[0m                         Traceback (most recent call last)",
      "\u001b[1;32mc:\\Users\\moloc\\OneDrive\\Рабочий стол\\cianparser-main\\ml\\parse.ipynb Cell 2\u001b[0m line \u001b[0;36m1\n\u001b[1;32m----> <a href='vscode-notebook-cell:/c%3A/Users/moloc/OneDrive/%D0%A0%D0%B0%D0%B1%D0%BE%D1%87%D0%B8%D0%B9%20%D1%81%D1%82%D0%BE%D0%BB/cianparser-main/ml/parse.ipynb#W1sZmlsZQ%3D%3D?line=0'>1</a>\u001b[0m data1 \u001b[39m=\u001b[39m cianparser\u001b[39m.\u001b[39;49mparse(\n\u001b[0;32m      <a href='vscode-notebook-cell:/c%3A/Users/moloc/OneDrive/%D0%A0%D0%B0%D0%B1%D0%BE%D1%87%D0%B8%D0%B9%20%D1%81%D1%82%D0%BE%D0%BB/cianparser-main/ml/parse.ipynb#W1sZmlsZQ%3D%3D?line=1'>2</a>\u001b[0m     deal_type\u001b[39m=\u001b[39;49m\u001b[39m\"\u001b[39;49m\u001b[39msale\u001b[39;49m\u001b[39m\"\u001b[39;49m,\n\u001b[0;32m      <a href='vscode-notebook-cell:/c%3A/Users/moloc/OneDrive/%D0%A0%D0%B0%D0%B1%D0%BE%D1%87%D0%B8%D0%B9%20%D1%81%D1%82%D0%BE%D0%BB/cianparser-main/ml/parse.ipynb#W1sZmlsZQ%3D%3D?line=2'>3</a>\u001b[0m     accommodation_type\u001b[39m=\u001b[39;49m\u001b[39m\"\u001b[39;49m\u001b[39mflat\u001b[39;49m\u001b[39m\"\u001b[39;49m,\n\u001b[0;32m      <a href='vscode-notebook-cell:/c%3A/Users/moloc/OneDrive/%D0%A0%D0%B0%D0%B1%D0%BE%D1%87%D0%B8%D0%B9%20%D1%81%D1%82%D0%BE%D0%BB/cianparser-main/ml/parse.ipynb#W1sZmlsZQ%3D%3D?line=3'>4</a>\u001b[0m     location\u001b[39m=\u001b[39;49m\u001b[39m\"\u001b[39;49m\u001b[39mПермь\u001b[39;49m\u001b[39m\"\u001b[39;49m,\n\u001b[0;32m      <a href='vscode-notebook-cell:/c%3A/Users/moloc/OneDrive/%D0%A0%D0%B0%D0%B1%D0%BE%D1%87%D0%B8%D0%B9%20%D1%81%D1%82%D0%BE%D0%BB/cianparser-main/ml/parse.ipynb#W1sZmlsZQ%3D%3D?line=4'>5</a>\u001b[0m     rooms\u001b[39m=\u001b[39;49m(\u001b[39m1\u001b[39;49m),\n\u001b[0;32m      <a href='vscode-notebook-cell:/c%3A/Users/moloc/OneDrive/%D0%A0%D0%B0%D0%B1%D0%BE%D1%87%D0%B8%D0%B9%20%D1%81%D1%82%D0%BE%D0%BB/cianparser-main/ml/parse.ipynb#W1sZmlsZQ%3D%3D?line=5'>6</a>\u001b[0m     start_page\u001b[39m=\u001b[39;49m\u001b[39m1\u001b[39;49m,\n\u001b[0;32m      <a href='vscode-notebook-cell:/c%3A/Users/moloc/OneDrive/%D0%A0%D0%B0%D0%B1%D0%BE%D1%87%D0%B8%D0%B9%20%D1%81%D1%82%D0%BE%D0%BB/cianparser-main/ml/parse.ipynb#W1sZmlsZQ%3D%3D?line=6'>7</a>\u001b[0m     end_page\u001b[39m=\u001b[39;49m\u001b[39m54\u001b[39;49m,\n\u001b[0;32m      <a href='vscode-notebook-cell:/c%3A/Users/moloc/OneDrive/%D0%A0%D0%B0%D0%B1%D0%BE%D1%87%D0%B8%D0%B9%20%D1%81%D1%82%D0%BE%D0%BB/cianparser-main/ml/parse.ipynb#W1sZmlsZQ%3D%3D?line=7'>8</a>\u001b[0m     is_saving_csv\u001b[39m=\u001b[39;49m\u001b[39mTrue\u001b[39;49;00m,\n\u001b[0;32m      <a href='vscode-notebook-cell:/c%3A/Users/moloc/OneDrive/%D0%A0%D0%B0%D0%B1%D0%BE%D1%87%D0%B8%D0%B9%20%D1%81%D1%82%D0%BE%D0%BB/cianparser-main/ml/parse.ipynb#W1sZmlsZQ%3D%3D?line=8'>9</a>\u001b[0m     is_latin\u001b[39m=\u001b[39;49m\u001b[39mFalse\u001b[39;49;00m,\n\u001b[0;32m     <a href='vscode-notebook-cell:/c%3A/Users/moloc/OneDrive/%D0%A0%D0%B0%D0%B1%D0%BE%D1%87%D0%B8%D0%B9%20%D1%81%D1%82%D0%BE%D0%BB/cianparser-main/ml/parse.ipynb#W1sZmlsZQ%3D%3D?line=9'>10</a>\u001b[0m     is_express_mode\u001b[39m=\u001b[39;49m\u001b[39mFalse\u001b[39;49;00m,\n\u001b[0;32m     <a href='vscode-notebook-cell:/c%3A/Users/moloc/OneDrive/%D0%A0%D0%B0%D0%B1%D0%BE%D1%87%D0%B8%D0%B9%20%D1%81%D1%82%D0%BE%D0%BB/cianparser-main/ml/parse.ipynb#W1sZmlsZQ%3D%3D?line=10'>11</a>\u001b[0m     object_type\u001b[39m=\u001b[39;49m\u001b[39m1\u001b[39;49m\n\u001b[0;32m     <a href='vscode-notebook-cell:/c%3A/Users/moloc/OneDrive/%D0%A0%D0%B0%D0%B1%D0%BE%D1%87%D0%B8%D0%B9%20%D1%81%D1%82%D0%BE%D0%BB/cianparser-main/ml/parse.ipynb#W1sZmlsZQ%3D%3D?line=11'>12</a>\u001b[0m )\n\u001b[0;32m     <a href='vscode-notebook-cell:/c%3A/Users/moloc/OneDrive/%D0%A0%D0%B0%D0%B1%D0%BE%D1%87%D0%B8%D0%B9%20%D1%81%D1%82%D0%BE%D0%BB/cianparser-main/ml/parse.ipynb#W1sZmlsZQ%3D%3D?line=12'>13</a>\u001b[0m data1 \u001b[39m=\u001b[39m pd\u001b[39m.\u001b[39mDataFrame(data1)\n",
      "File \u001b[1;32mc:\\Users\\moloc\\AppData\\Local\\Programs\\Python\\Python311\\Lib\\site-packages\\cianparser\\cianparser.py:99\u001b[0m, in \u001b[0;36mparse\u001b[1;34m(deal_type, accommodation_type, location, rooms, start_page, end_page, is_saving_csv, is_latin, is_express_mode, is_by_homeowner, object_type)\u001b[0m\n\u001b[0;32m     83\u001b[0m \u001b[39melse\u001b[39;00m:\n\u001b[0;32m     84\u001b[0m     parser \u001b[39m=\u001b[39m ParserOffers(\n\u001b[0;32m     85\u001b[0m         deal_type\u001b[39m=\u001b[39mdeal_type,\n\u001b[0;32m     86\u001b[0m         accommodation_type\u001b[39m=\u001b[39maccommodation_type,\n\u001b[1;32m   (...)\u001b[0m\n\u001b[0;32m     96\u001b[0m         object_type\u001b[39m=\u001b[39mobject_type\n\u001b[0;32m     97\u001b[0m     )\n\u001b[1;32m---> 99\u001b[0m     parser\u001b[39m.\u001b[39;49mrun()\n\u001b[0;32m    100\u001b[0m     \u001b[39mprint\u001b[39m(\u001b[39m\"\u001b[39m\u001b[39m\"\u001b[39m)\n\u001b[0;32m    102\u001b[0m     \u001b[39mreturn\u001b[39;00m parser\u001b[39m.\u001b[39mget_results()\n",
      "File \u001b[1;32mc:\\Users\\moloc\\AppData\\Local\\Programs\\Python\\Python311\\Lib\\site-packages\\cianparser\\parser.py:730\u001b[0m, in \u001b[0;36mParserOffers.run\u001b[1;34m(self)\u001b[0m\n\u001b[0;32m    728\u001b[0m parsed, attempt_number \u001b[39m=\u001b[39m \u001b[39mFalse\u001b[39;00m, \u001b[39m0\u001b[39m\n\u001b[0;32m    729\u001b[0m \u001b[39mwhile\u001b[39;00m \u001b[39mnot\u001b[39;00m parsed \u001b[39mand\u001b[39;00m attempt_number \u001b[39m<\u001b[39m \u001b[39m3\u001b[39m:\n\u001b[1;32m--> 730\u001b[0m     parsed, attempt_number, end \u001b[39m=\u001b[39m \u001b[39mself\u001b[39;49m\u001b[39m.\u001b[39;49mload_and_parse_page(number_page\u001b[39m=\u001b[39;49mnumber_page,\n\u001b[0;32m    731\u001b[0m                                                       count_of_pages\u001b[39m=\u001b[39;49m\u001b[39mself\u001b[39;49m\u001b[39m.\u001b[39;49mend_page\u001b[39m+\u001b[39;49m\u001b[39m1\u001b[39;49m\u001b[39m-\u001b[39;49m\u001b[39mself\u001b[39;49m\u001b[39m.\u001b[39;49mstart_page,\n\u001b[0;32m    732\u001b[0m                                                       attempt_number\u001b[39m=\u001b[39;49mattempt_number)\n\u001b[0;32m    733\u001b[0m     attempt_number_exception \u001b[39m=\u001b[39m \u001b[39m0\u001b[39m\n\u001b[0;32m    734\u001b[0m     \u001b[39mif\u001b[39;00m end:\n",
      "File \u001b[1;32mc:\\Users\\moloc\\AppData\\Local\\Programs\\Python\\Python311\\Lib\\site-packages\\cianparser\\parser.py:718\u001b[0m, in \u001b[0;36mParserOffers.load_and_parse_page\u001b[1;34m(self, number_page, count_of_pages, attempt_number)\u001b[0m\n\u001b[0;32m    716\u001b[0m \u001b[39mdef\u001b[39;00m \u001b[39mload_and_parse_page\u001b[39m(\u001b[39mself\u001b[39m, number_page, count_of_pages, attempt_number):\n\u001b[0;32m    717\u001b[0m     html \u001b[39m=\u001b[39m \u001b[39mself\u001b[39m\u001b[39m.\u001b[39mload_page(number_page\u001b[39m=\u001b[39mnumber_page)\n\u001b[1;32m--> 718\u001b[0m     \u001b[39mreturn\u001b[39;00m \u001b[39mself\u001b[39;49m\u001b[39m.\u001b[39;49mparse_page(html\u001b[39m=\u001b[39;49mhtml, number_page\u001b[39m=\u001b[39;49mnumber_page, count_of_pages\u001b[39m=\u001b[39;49mcount_of_pages, attempt_number\u001b[39m=\u001b[39;49mattempt_number)\n",
      "File \u001b[1;32mc:\\Users\\moloc\\AppData\\Local\\Programs\\Python\\Python311\\Lib\\site-packages\\cianparser\\parser.py:137\u001b[0m, in \u001b[0;36mparse_page\u001b[1;34m(self, html, number_page, count_of_pages, attempt_number)\u001b[0m\n\u001b[0;32m    135\u001b[0m elif type(self.rooms) is int:\n\u001b[0;32m    136\u001b[0m     if self.rooms > 0 and self.rooms < 6:\n\u001b[1;32m--> 137\u001b[0m         rooms_path += ROOM.format(self.rooms)\n\u001b[0;32m    138\u001b[0m elif type(self.rooms) is str:\n\u001b[0;32m    139\u001b[0m     if self.rooms == \"studio\":\n",
      "\u001b[1;31mKeyboardInterrupt\u001b[0m: "
     ]
    }
   ],
   "source": [
    "data1 = cianparser.parse(\n",
    "    deal_type=\"sale\",\n",
    "    accommodation_type=\"flat\",\n",
    "    location=\"Пермь\",\n",
    "    rooms=(1),\n",
    "    start_page=1,\n",
    "    end_page=54,\n",
    "    is_saving_csv=True,\n",
    "    is_latin=False,\n",
    "    is_express_mode=False,\n",
    "    object_type=1\n",
    ")\n",
    "data1 = pd.DataFrame(data1)"
   ]
  },
  {
   "cell_type": "code",
   "execution_count": null,
   "metadata": {},
   "outputs": [],
   "source": [
    "data2 = cianparser.parse(\n",
    "    deal_type=\"sale\",\n",
    "    accommodation_type=\"flat\",\n",
    "    location=\"Пермь\",\n",
    "    rooms=(1),\n",
    "    start_page=1,\n",
    "    end_page=54,\n",
    "    is_saving_csv=True,\n",
    "    is_latin=False,\n",
    "    is_express_mode=False,\n",
    "    object_type=2\n",
    ")\n",
    "data2 = pd.DataFrame(data2)"
   ]
  },
  {
   "cell_type": "code",
   "execution_count": null,
   "metadata": {},
   "outputs": [],
   "source": [
    "data3 = cianparser.parse(\n",
    "    deal_type=\"sale\",\n",
    "    accommodation_type=\"flat\",\n",
    "    location=\"Пермь\",\n",
    "    rooms=(2),\n",
    "    start_page=1,\n",
    "    end_page=54,\n",
    "    is_saving_csv=True,\n",
    "    is_latin=False,\n",
    "    is_express_mode=False,\n",
    "    object_type=1\n",
    ")\n",
    "data3 = pd.DataFrame(data3)"
   ]
  },
  {
   "cell_type": "code",
   "execution_count": null,
   "metadata": {},
   "outputs": [],
   "source": [
    "data4 = cianparser.parse(\n",
    "    deal_type=\"sale\",\n",
    "    accommodation_type=\"flat\",\n",
    "    location=\"Пермь\",\n",
    "    rooms=(2),\n",
    "    start_page=1,\n",
    "    end_page=54,\n",
    "    is_saving_csv=True,\n",
    "    is_latin=False,\n",
    "    is_express_mode=False,\n",
    "    object_type=2\n",
    ")\n",
    "data4 = pd.DataFrame(data4)"
   ]
  },
  {
   "cell_type": "code",
   "execution_count": null,
   "metadata": {},
   "outputs": [],
   "source": [
    "data5 = cianparser.parse(\n",
    "    deal_type=\"sale\",\n",
    "    accommodation_type=\"flat\",\n",
    "    location=\"Пермь\",\n",
    "    rooms=(3),\n",
    "    start_page=1,\n",
    "    end_page=54,\n",
    "    is_saving_csv=True,\n",
    "    is_latin=False,\n",
    "    is_express_mode=False,\n",
    "    object_type=1\n",
    ")\n",
    "data5 = pd.DataFrame(data5)"
   ]
  },
  {
   "cell_type": "code",
   "execution_count": null,
   "metadata": {},
   "outputs": [],
   "source": [
    "data6 = cianparser.parse(\n",
    "    deal_type=\"sale\",\n",
    "    accommodation_type=\"flat\",\n",
    "    location=\"Пермь\",\n",
    "    rooms=(3),\n",
    "    start_page=1,\n",
    "    end_page=54,\n",
    "    is_saving_csv=True,\n",
    "    is_latin=False,\n",
    "    is_express_mode=False,\n",
    "    object_type=2\n",
    ")\n",
    "data6 = pd.DataFrame(data6)"
   ]
  },
  {
   "cell_type": "code",
   "execution_count": null,
   "metadata": {},
   "outputs": [],
   "source": [
    "data7 = cianparser.parse(\n",
    "    deal_type=\"sale\",\n",
    "    accommodation_type=\"flat\",\n",
    "    location=\"Пермь\",\n",
    "    rooms=(4, 5, 'studio'),\n",
    "    start_page=1,\n",
    "    end_page=54,\n",
    "    is_saving_csv=True,\n",
    "    is_latin=False,\n",
    "    is_express_mode=False,\n",
    "    object_type=0\n",
    ")\n",
    "data7 = pd.DataFrame(data7)"
   ]
  },
  {
   "cell_type": "code",
   "execution_count": null,
   "metadata": {},
   "outputs": [],
   "source": [
    "data = pd.concat([data1, data2], axis=0, ignore_index=True)\n",
    "data = pd.concat([data, data3], axis=0, ignore_index=True)\n",
    "data = pd.concat([data, data4], axis=0, ignore_index=True)\n",
    "data = pd.concat([data, data5], axis=0, ignore_index=True)\n",
    "data = pd.concat([data, data6], axis=0, ignore_index=True)\n",
    "data = pd.concat([data, data7], axis=0, ignore_index=True)"
   ]
  },
  {
   "cell_type": "code",
   "execution_count": null,
   "metadata": {},
   "outputs": [],
   "source": [
    "print(data.columns)\n",
    "data.to_csv('data.csv', index = False)"
   ]
  },
  {
   "cell_type": "code",
   "execution_count": null,
   "metadata": {},
   "outputs": [],
   "source": [
    "print(data.elevator_type.unique())\n",
    "print(data.ceiling_height.unique())\n",
    "print(data.repair_type.unique())\n",
    "print(data.building_type.unique())\n",
    "print(data.parking_type.unique())"
   ]
  },
  {
   "cell_type": "code",
   "execution_count": null,
   "metadata": {},
   "outputs": [],
   "source": [
    "data"
   ]
  }
 ],
 "metadata": {
  "kernelspec": {
   "display_name": "Python 3",
   "language": "python",
   "name": "python3"
  },
  "language_info": {
   "codemirror_mode": {
    "name": "ipython",
    "version": 3
   },
   "file_extension": ".py",
   "mimetype": "text/x-python",
   "name": "python",
   "nbconvert_exporter": "python",
   "pygments_lexer": "ipython3",
   "version": "3.11.4"
  }
 },
 "nbformat": 4,
 "nbformat_minor": 2
}
